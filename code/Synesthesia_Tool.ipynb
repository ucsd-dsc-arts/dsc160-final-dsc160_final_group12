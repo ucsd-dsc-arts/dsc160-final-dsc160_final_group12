{
 "cells": [
  {
   "cell_type": "code",
   "execution_count": null,
   "metadata": {},
   "outputs": [],
   "source": [
    "import pandas as pd\n",
    "import numpy as np\n",
    "from skimage import io\n",
    "import ingestion as ingest\n",
    "\n",
    "import panel as pn\n",
    "pn.extension()"
   ]
  },
  {
   "attachments": {},
   "cell_type": "markdown",
   "metadata": {},
   "source": [
    "## 1. Handwritten Text Image Generation\n",
    "\n",
    "To generate a handwritten image, please visit https://www.autodraw.com/ then draw and download your image.\n",
    "\n",
    "Example:\n",
    "\n",
    "1. Draw your text\n",
    "\n",
    "<img src=\"img/Draw_Example.png\" width=600/>\n",
    "\n",
    "2. Click the top left menu icon and download\n",
    "\n",
    "<img src=\"img/Download_Example.png\" width=600/>"
   ]
  },
  {
   "cell_type": "markdown",
   "metadata": {},
   "source": [
    "## 2. Image Upload\n",
    "\n",
    "Please run the next cell and upload your handwritten image."
   ]
  },
  {
   "cell_type": "code",
   "execution_count": null,
   "metadata": {},
   "outputs": [],
   "source": [
    "ingest.input_data()"
   ]
  },
  {
   "cell_type": "markdown",
   "metadata": {},
   "source": [
    "## 3. Run model on image [TODO]"
   ]
  },
  {
   "cell_type": "code",
   "execution_count": null,
   "metadata": {},
   "outputs": [],
   "source": [
    "# Reading in image \n",
    "image = io.imread(ingest.filepath)\n",
    "image"
   ]
  }
 ],
 "metadata": {
  "kernelspec": {
   "display_name": "Python 3",
   "language": "python",
   "name": "python3"
  },
  "language_info": {
   "codemirror_mode": {
    "name": "ipython",
    "version": 3
   },
   "file_extension": ".py",
   "mimetype": "text/x-python",
   "name": "python",
   "nbconvert_exporter": "python",
   "pygments_lexer": "ipython3",
   "version": "3.7.3"
  }
 },
 "nbformat": 4,
 "nbformat_minor": 4
}
