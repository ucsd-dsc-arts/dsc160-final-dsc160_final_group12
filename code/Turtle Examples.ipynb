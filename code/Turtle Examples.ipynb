{
 "cells": [
  {
   "cell_type": "markdown",
   "metadata": {},
   "source": [
    "# TURTLE"
   ]
  },
  {
   "cell_type": "code",
   "execution_count": 55,
   "metadata": {},
   "outputs": [],
   "source": [
    "#! pip install ipyturtle\n",
    "#! jupyter nbextension enable --py --sys-prefix ipyturtle"
   ]
  },
  {
   "cell_type": "code",
   "execution_count": null,
   "metadata": {},
   "outputs": [],
   "source": []
  },
  {
   "cell_type": "markdown",
   "metadata": {},
   "source": [
    "## Color Wheel"
   ]
  },
  {
   "cell_type": "code",
   "execution_count": 9,
   "metadata": {},
   "outputs": [
    {
     "ename": "TurtleGraphicsError",
     "evalue": "bad color string: purple",
     "output_type": "error",
     "traceback": [
      "\u001b[0;31m---------------------------------------------------------------------------\u001b[0m",
      "\u001b[0;31mTurtleGraphicsError\u001b[0m                       Traceback (most recent call last)",
      "\u001b[0;32m<ipython-input-9-a25feb7d8928>\u001b[0m in \u001b[0;36m<module>\u001b[0;34m\u001b[0m\n\u001b[1;32m     33\u001b[0m     \u001b[0mcolorchoice\u001b[0m \u001b[0;34m=\u001b[0m \u001b[0mrandom\u001b[0m\u001b[0;34m.\u001b[0m\u001b[0mchoice\u001b[0m\u001b[0;34m(\u001b[0m\u001b[0mcolors\u001b[0m\u001b[0;34m)\u001b[0m\u001b[0;34m\u001b[0m\u001b[0;34m\u001b[0m\u001b[0m\n\u001b[1;32m     34\u001b[0m     \u001b[0;31m#have the turtle take on the randomly chose color\u001b[0m\u001b[0;34m\u001b[0m\u001b[0;34m\u001b[0m\u001b[0;34m\u001b[0m\u001b[0m\n\u001b[0;32m---> 35\u001b[0;31m     \u001b[0mt1\u001b[0m\u001b[0;34m.\u001b[0m\u001b[0mcolor\u001b[0m\u001b[0;34m(\u001b[0m\u001b[0mcolorchoice\u001b[0m\u001b[0;34m)\u001b[0m\u001b[0;34m\u001b[0m\u001b[0;34m\u001b[0m\u001b[0m\n\u001b[0m\u001b[1;32m     36\u001b[0m     \u001b[0;31m#move the turtle forward\u001b[0m\u001b[0;34m\u001b[0m\u001b[0;34m\u001b[0m\u001b[0;34m\u001b[0m\u001b[0m\n\u001b[1;32m     37\u001b[0m     \u001b[0mt1\u001b[0m\u001b[0;34m.\u001b[0m\u001b[0mforward\u001b[0m\u001b[0;34m(\u001b[0m\u001b[0;36m400\u001b[0m\u001b[0;34m)\u001b[0m\u001b[0;34m\u001b[0m\u001b[0;34m\u001b[0m\u001b[0m\n",
      "\u001b[0;32m/opt/anaconda3/lib/python3.7/turtle.py\u001b[0m in \u001b[0;36mcolor\u001b[0;34m(self, *args)\u001b[0m\n\u001b[1;32m   2214\u001b[0m             \u001b[0;32melif\u001b[0m \u001b[0ml\u001b[0m \u001b[0;34m==\u001b[0m \u001b[0;36m3\u001b[0m\u001b[0;34m:\u001b[0m\u001b[0;34m\u001b[0m\u001b[0;34m\u001b[0m\u001b[0m\n\u001b[1;32m   2215\u001b[0m                 \u001b[0mpcolor\u001b[0m \u001b[0;34m=\u001b[0m \u001b[0mfcolor\u001b[0m \u001b[0;34m=\u001b[0m \u001b[0margs\u001b[0m\u001b[0;34m\u001b[0m\u001b[0;34m\u001b[0m\u001b[0m\n\u001b[0;32m-> 2216\u001b[0;31m             \u001b[0mpcolor\u001b[0m \u001b[0;34m=\u001b[0m \u001b[0mself\u001b[0m\u001b[0;34m.\u001b[0m\u001b[0m_colorstr\u001b[0m\u001b[0;34m(\u001b[0m\u001b[0mpcolor\u001b[0m\u001b[0;34m)\u001b[0m\u001b[0;34m\u001b[0m\u001b[0;34m\u001b[0m\u001b[0m\n\u001b[0m\u001b[1;32m   2217\u001b[0m             \u001b[0mfcolor\u001b[0m \u001b[0;34m=\u001b[0m \u001b[0mself\u001b[0m\u001b[0;34m.\u001b[0m\u001b[0m_colorstr\u001b[0m\u001b[0;34m(\u001b[0m\u001b[0mfcolor\u001b[0m\u001b[0;34m)\u001b[0m\u001b[0;34m\u001b[0m\u001b[0;34m\u001b[0m\u001b[0m\n\u001b[1;32m   2218\u001b[0m             \u001b[0mself\u001b[0m\u001b[0;34m.\u001b[0m\u001b[0mpen\u001b[0m\u001b[0;34m(\u001b[0m\u001b[0mpencolor\u001b[0m\u001b[0;34m=\u001b[0m\u001b[0mpcolor\u001b[0m\u001b[0;34m,\u001b[0m \u001b[0mfillcolor\u001b[0m\u001b[0;34m=\u001b[0m\u001b[0mfcolor\u001b[0m\u001b[0;34m)\u001b[0m\u001b[0;34m\u001b[0m\u001b[0;34m\u001b[0m\u001b[0m\n",
      "\u001b[0;32m/opt/anaconda3/lib/python3.7/turtle.py\u001b[0m in \u001b[0;36m_colorstr\u001b[0;34m(self, args)\u001b[0m\n\u001b[1;32m   2694\u001b[0m \u001b[0;34m\u001b[0m\u001b[0m\n\u001b[1;32m   2695\u001b[0m     \u001b[0;32mdef\u001b[0m \u001b[0m_colorstr\u001b[0m\u001b[0;34m(\u001b[0m\u001b[0mself\u001b[0m\u001b[0;34m,\u001b[0m \u001b[0margs\u001b[0m\u001b[0;34m)\u001b[0m\u001b[0;34m:\u001b[0m\u001b[0;34m\u001b[0m\u001b[0;34m\u001b[0m\u001b[0m\n\u001b[0;32m-> 2696\u001b[0;31m         \u001b[0;32mreturn\u001b[0m \u001b[0mself\u001b[0m\u001b[0;34m.\u001b[0m\u001b[0mscreen\u001b[0m\u001b[0;34m.\u001b[0m\u001b[0m_colorstr\u001b[0m\u001b[0;34m(\u001b[0m\u001b[0margs\u001b[0m\u001b[0;34m)\u001b[0m\u001b[0;34m\u001b[0m\u001b[0;34m\u001b[0m\u001b[0m\n\u001b[0m\u001b[1;32m   2697\u001b[0m \u001b[0;34m\u001b[0m\u001b[0m\n\u001b[1;32m   2698\u001b[0m     \u001b[0;32mdef\u001b[0m \u001b[0m_cc\u001b[0m\u001b[0;34m(\u001b[0m\u001b[0mself\u001b[0m\u001b[0;34m,\u001b[0m \u001b[0margs\u001b[0m\u001b[0;34m)\u001b[0m\u001b[0;34m:\u001b[0m\u001b[0;34m\u001b[0m\u001b[0;34m\u001b[0m\u001b[0m\n",
      "\u001b[0;32m/opt/anaconda3/lib/python3.7/turtle.py\u001b[0m in \u001b[0;36m_colorstr\u001b[0;34m(self, color)\u001b[0m\n\u001b[1;32m   1156\u001b[0m                 \u001b[0;32mreturn\u001b[0m \u001b[0mcolor\u001b[0m\u001b[0;34m\u001b[0m\u001b[0;34m\u001b[0m\u001b[0m\n\u001b[1;32m   1157\u001b[0m             \u001b[0;32melse\u001b[0m\u001b[0;34m:\u001b[0m\u001b[0;34m\u001b[0m\u001b[0;34m\u001b[0m\u001b[0m\n\u001b[0;32m-> 1158\u001b[0;31m                 \u001b[0;32mraise\u001b[0m \u001b[0mTurtleGraphicsError\u001b[0m\u001b[0;34m(\u001b[0m\u001b[0;34m\"bad color string: %s\"\u001b[0m \u001b[0;34m%\u001b[0m \u001b[0mstr\u001b[0m\u001b[0;34m(\u001b[0m\u001b[0mcolor\u001b[0m\u001b[0;34m)\u001b[0m\u001b[0;34m)\u001b[0m\u001b[0;34m\u001b[0m\u001b[0;34m\u001b[0m\u001b[0m\n\u001b[0m\u001b[1;32m   1159\u001b[0m         \u001b[0;32mtry\u001b[0m\u001b[0;34m:\u001b[0m\u001b[0;34m\u001b[0m\u001b[0;34m\u001b[0m\u001b[0m\n\u001b[1;32m   1160\u001b[0m             \u001b[0mr\u001b[0m\u001b[0;34m,\u001b[0m \u001b[0mg\u001b[0m\u001b[0;34m,\u001b[0m \u001b[0mb\u001b[0m \u001b[0;34m=\u001b[0m \u001b[0mcolor\u001b[0m\u001b[0;34m\u001b[0m\u001b[0;34m\u001b[0m\u001b[0m\n",
      "\u001b[0;31mTurtleGraphicsError\u001b[0m: bad color string: purple"
     ]
    }
   ],
   "source": [
    "#Creating a simple color wheel in Python\n",
    "#first, import graphics capabilities\n",
    "from turtle import *\n",
    "#create a window for the graphics\n",
    "setup()\n",
    "#create a turtle for drawing\n",
    "t1 = Turtle()\n",
    "bgcolor('black')\n",
    "\n",
    "#create a list of colors to randomly choose from\n",
    "colors = [\"blue\", \"purple\", \"white\"]\n",
    "\n",
    "#import random capabilities\n",
    "import random\n",
    "\n",
    "#do some basic setup for the turtle\n",
    "#pick up the pen so no marks are left\n",
    "t1.up()\n",
    "#move the turtle to the left\n",
    "t1.goto(-200,0)\n",
    "#put the pen back down\n",
    "t1.down()\n",
    "#change the pen thickness\n",
    "t1.width(2)\n",
    "#hide the turtle icon\n",
    "t1.hideturtle()\n",
    "#set turtle speed to MAXIMUM (1-10 for specific speeds. 1 is slowest)\n",
    "t1.speed(0)\n",
    "\n",
    "#create a loop for the graphics to be built\n",
    "for i in range(500):\n",
    "    #choose a random color for the turtle\n",
    "    colorchoice = random.choice(colors)\n",
    "    #have the turtle take on the randomly chose color\n",
    "    t1.color(colorchoice)\n",
    "    #move the turtle forward\n",
    "    t1.forward(400)\n",
    "    #have the turtle turn 181 degrees (anything over 180 works)\n",
    "    t1.right(181)\n",
    "\n",
    "exitonclick() \n",
    "# example from: https://www.youtube.com/watch?v=DeEghH5UeH4"
   ]
  },
  {
   "cell_type": "markdown",
   "metadata": {},
   "source": [
    "## Color Spirograph"
   ]
  },
  {
   "cell_type": "code",
   "execution_count": null,
   "metadata": {},
   "outputs": [],
   "source": [
    "setup()\n",
    "#create a turtle for drawing\n",
    "t1 = Turtle()\n",
    "bgcolor('black')\n",
    "#create a list of colors to randomly choose from\n",
    "colors = [\"blue\", \"purple\", \"white\"]\n",
    "\n",
    "#change the pen thickness\n",
    "t1.width(2)\n",
    "#hide the turtle icon\n",
    "t1.hideturtle()\n",
    "#set turtle speed to MAXIMUM (1-10 for specific speeds. 1 is slowest)\n",
    "t1.speed(0)\n",
    "\n",
    "#create a loop for the graphics to be built\n",
    "for i in range(50):\n",
    "    #choose a random color for the turtle\n",
    "    colorchoice = random.choice(colors)\n",
    "    #have the turtle take on the randomly chose color\n",
    "    t1.color(colorchoice)\n",
    "    #create circle\n",
    "    t1.circle(100)\n",
    "    t1.left(10)\n",
    "\n",
    "exitonclick() \n",
    "# example from: https://www.youtube.com/watch?v=w0LO0Ff7WRo"
   ]
  },
  {
   "cell_type": "markdown",
   "metadata": {},
   "source": [
    "## Color Hexogram-spiral"
   ]
  },
  {
   "cell_type": "code",
   "execution_count": null,
   "metadata": {},
   "outputs": [],
   "source": [
    "setup()\n",
    "t1 = Turtle()\n",
    "bgcolor('black')\n",
    "#create a list of colors to randomly choose from\n",
    "colors = [\"blue\", \"purple\", \"white\"]\n",
    "#hide the turtle icon\n",
    "t1.hideturtle()\n",
    "t1.speed(0)\n",
    "for i in range (200):\n",
    "    #choose a random color for the turtle\n",
    "    colorchoice = random.choice(colors)\n",
    "    #have the turtle take on the randomly chose color\n",
    "    t1.color(colorchoice)\n",
    "    t1.forward(i)\n",
    "    t1.left(59)\n",
    "\n",
    "exitonclick() \n",
    "#example from : https://www.youtube.com/watch?v=L4BVjagdJf0"
   ]
  },
  {
   "cell_type": "code",
   "execution_count": null,
   "metadata": {},
   "outputs": [],
   "source": []
  }
 ],
 "metadata": {
  "kernelspec": {
   "display_name": "Python 3",
   "language": "python",
   "name": "python3"
  },
  "language_info": {
   "codemirror_mode": {
    "name": "ipython",
    "version": 3
   },
   "file_extension": ".py",
   "mimetype": "text/x-python",
   "name": "python",
   "nbconvert_exporter": "python",
   "pygments_lexer": "ipython3",
   "version": "3.7.1"
  }
 },
 "nbformat": 4,
 "nbformat_minor": 2
}
